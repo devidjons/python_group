{
 "cells": [
  {
   "cell_type": "markdown",
   "metadata": {},
   "source": [
    "### Dziedziczenie "
   ]
  },
  {
   "cell_type": "markdown",
   "metadata": {},
   "source": [
    "Klasy (obiekty) mogą dziedziczyć po sobie. To oznacza, że wszystkie metody i atrybuty, które zostały zaimplementowanie w klasie bazowej, przechodzą na klasę pochodną. Przykład poniżej. W klasie B nie musimy już definiować funkcji."
   ]
  },
  {
   "cell_type": "code",
   "execution_count": 1,
   "metadata": {},
   "outputs": [
    {
     "name": "stdout",
     "output_type": "stream",
     "text": [
      "<__main__.Planet object at 0x7fce201b4780>\n",
      "H2O\n"
     ]
    },
    {
     "data": {
      "text/plain": [
       "20"
      ]
     },
     "execution_count": 1,
     "metadata": {},
     "output_type": "execute_result"
    }
   ],
   "source": [
    "class Planet:\n",
    "    \n",
    "    def __init__(self, radius, mass):\n",
    "        self.orbit = \"Sun\"\n",
    "        self.promien = radius\n",
    "        self.masa = mass\n",
    "    \n",
    "    \n",
    "class Earth(Planet):\n",
    "    \n",
    "    def __init__(self, radius, mass, temperature):\n",
    "        Planet.__init__(self, radius, mass)\n",
    "        self.temperatura = temperature\n",
    "    \n",
    "    def start_life(self):\n",
    "        print(\"H2O\")\n",
    "        \n",
    "\n",
    "mars = Planet(100, 1e90)\n",
    "print(mars)\n",
    "\n",
    "ziemia = Earth(20, 30, 30)\n",
    "    \n",
    "ziemia.start_life()\n",
    "ziemia.promien"
   ]
  },
  {
   "cell_type": "markdown",
   "metadata": {},
   "source": [
    "### Zdanie\n",
    "Napisać klasę członka Koła Naukowego (imię, nazwisko, czy zapłacił składkę), następnie stworzyć drugą klasę członka grupy DR, która będzie dziedziczyć po członku Koła Naukowego. Dodatkwo będzie posiadać metodę zliczającą zrobione zadania i pseudonim :)"
   ]
  },
  {
   "cell_type": "code",
   "execution_count": null,
   "metadata": {},
   "outputs": [],
   "source": [
    "class czlonek:\n",
    "    def __init__( self, imie, nazwisko, skladka):\n",
    "        self.imie=imie\n",
    "        self.nazwisko=nazwisko\n",
    "        self.skladka=skladka\n",
    "\n",
    "        \n",
    "class czlonek_DR(czlonek):\n",
    "    def __init__(self, imie, nazwisko, skladka, pseudonim):\n",
    "        self.ilosc_zadan = 0\n",
    "        czlonek.__init__(self, imie, nazwisko, skladka)\n",
    "        self.pseudonim=pseudonim\n",
    "    def zrobione(self):\n",
    "        self.ilosc_zadan += 1"
   ]
  }
 ],
 "metadata": {
  "kernelspec": {
   "display_name": "Python 3",
   "language": "python",
   "name": "python3"
  },
  "language_info": {
   "codemirror_mode": {
    "name": "ipython",
    "version": 3
   },
   "file_extension": ".py",
   "mimetype": "text/x-python",
   "name": "python",
   "nbconvert_exporter": "python",
   "pygments_lexer": "ipython3",
   "version": "3.7.0"
  }
 },
 "nbformat": 4,
 "nbformat_minor": 2
}
