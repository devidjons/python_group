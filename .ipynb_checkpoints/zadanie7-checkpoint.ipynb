{
 "cells": [
  {
   "cell_type": "markdown",
   "metadata": {},
   "source": [
    "# Zadanie 7"
   ]
  },
  {
   "cell_type": "markdown",
   "metadata": {},
   "source": [
    "Żródło: https://www.hackerrank.com/challenges/vertical-sticks/problem\n",
    "![](media/Screenshot_2018-12-01 Vertical Sticks HackerRank.png)"
   ]
  },
  {
   "cell_type": "markdown",
   "metadata": {},
   "source": [
    "_Uwaga: Zmieniłem wejście w stosunku do przykładu powyżej. Funkcja zwraca wartość oczekiwaną dla każdego testu osobno._"
   ]
  },
  {
   "cell_type": "code",
   "execution_count": 37,
   "metadata": {},
   "outputs": [],
   "source": [
    "import numpy as np\n",
    "from math import factorial"
   ]
  },
  {
   "cell_type": "code",
   "execution_count": 54,
   "metadata": {},
   "outputs": [
    {
     "name": "stdout",
     "output_type": "stream",
     "text": [
      "False\n",
      "True\n",
      "True\n",
      "True\n",
      "True\n",
      "True\n"
     ]
    }
   ],
   "source": [
    "import numpy as np\n",
    "import itertools as it\n",
    "class sequence:\n",
    "    def __init__(self, numbers):\n",
    "        self.seq = numbers\n",
    "        self.dist = np.zeros(len(numbers))\n",
    "    def set_distances(self):\n",
    "        for i, _ in enumerate(self.seq):\n",
    "            self.set_one_distance(i)\n",
    "    def set_one_distance(self, index):\n",
    "        i = index - 1\n",
    "        while i >= 0:\n",
    "            if self.seq[i] >= self.seq[index]:\n",
    "                self.dist[index] = index - i\n",
    "                return\n",
    "            i -= 1\n",
    "        self.dist[index] = index - i # in case of i=-1\n",
    "        return\n",
    "    def get_sum(self):\n",
    "        self.set_distances()\n",
    "        return sum(self.dist)\n",
    "def solve(y):\n",
    "    res = 0\n",
    "    for i in it.permutations(y):\n",
    "        a1 = sequence(i)\n",
    "        res += a1.get_sum()\n",
    "    return res/factorial(len(y))\n",
    "\n",
    "            \n",
    "            \n",
    "\n",
    "test_1 = [1, 2, 3]\n",
    "test_2 = [3, 3, 3]\n",
    "test_3 = [2, 2, 3]\n",
    "test_4 = [10, 2, 4, 4]\n",
    "test_5 = [10, 10, 10, 5, 10]\n",
    "test_6 = [1, 2, 3, 4, 5, 6]\n",
    "\n",
    "print(solve(test_1) == 4.33)\n",
    "print(solve(test_2) == 3.00)\n",
    "print(solve(test_3) == 4.00)\n",
    "print(solve(test_4) == 6.00)\n",
    "print(solve(test_5) == 5.80)\n",
    "print(solve(test_6) == 11.15)"
   ]
  },
  {
   "cell_type": "code",
   "execution_count": 39,
   "metadata": {},
   "outputs": [],
   "source": [
    "\n",
    "        "
   ]
  },
  {
   "cell_type": "code",
   "execution_count": null,
   "metadata": {},
   "outputs": [],
   "source": [
    "\n"
   ]
  },
  {
   "cell_type": "code",
   "execution_count": null,
   "metadata": {},
   "outputs": [],
   "source": []
  },
  {
   "cell_type": "code",
   "execution_count": null,
   "metadata": {},
   "outputs": [],
   "source": []
  },
  {
   "cell_type": "code",
   "execution_count": null,
   "metadata": {},
   "outputs": [],
   "source": []
  }
 ],
 "metadata": {
  "kernelspec": {
   "display_name": "Python 3",
   "language": "python",
   "name": "python3"
  },
  "language_info": {
   "codemirror_mode": {
    "name": "ipython",
    "version": 3
   },
   "file_extension": ".py",
   "mimetype": "text/x-python",
   "name": "python",
   "nbconvert_exporter": "python",
   "pygments_lexer": "ipython3",
   "version": "3.7.0"
  }
 },
 "nbformat": 4,
 "nbformat_minor": 2
}
